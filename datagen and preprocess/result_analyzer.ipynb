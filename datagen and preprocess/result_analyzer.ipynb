{
 "cells": [
  {
   "cell_type": "code",
   "execution_count": 1,
   "metadata": {},
   "outputs": [],
   "source": [
    "import random\n",
    "import numpy as np\n",
    "import pandas as pd"
   ]
  },
  {
   "cell_type": "code",
   "execution_count": 14,
   "metadata": {},
   "outputs": [
    {
     "data": {
      "text/html": [
       "<div>\n",
       "<style scoped>\n",
       "    .dataframe tbody tr th:only-of-type {\n",
       "        vertical-align: middle;\n",
       "    }\n",
       "\n",
       "    .dataframe tbody tr th {\n",
       "        vertical-align: top;\n",
       "    }\n",
       "\n",
       "    .dataframe thead th {\n",
       "        text-align: right;\n",
       "    }\n",
       "</style>\n",
       "<table border=\"1\" class=\"dataframe\">\n",
       "  <thead>\n",
       "    <tr style=\"text-align: right;\">\n",
       "      <th></th>\n",
       "      <th>t</th>\n",
       "      <th>id</th>\n",
       "      <th>loc</th>\n",
       "      <th>v</th>\n",
       "    </tr>\n",
       "  </thead>\n",
       "  <tbody>\n",
       "    <tr>\n",
       "      <th>0</th>\n",
       "      <td>0</td>\n",
       "      <td>0</td>\n",
       "      <td>435909,520893</td>\n",
       "      <td>-192.233,-35.3033</td>\n",
       "    </tr>\n",
       "    <tr>\n",
       "      <th>1</th>\n",
       "      <td>0</td>\n",
       "      <td>1</td>\n",
       "      <td>639659,945893</td>\n",
       "      <td>83.0765,27.2055</td>\n",
       "    </tr>\n",
       "    <tr>\n",
       "      <th>2</th>\n",
       "      <td>0</td>\n",
       "      <td>2</td>\n",
       "      <td>540909,563393</td>\n",
       "      <td>163.625,-64.405</td>\n",
       "    </tr>\n",
       "    <tr>\n",
       "      <th>3</th>\n",
       "      <td>0</td>\n",
       "      <td>3</td>\n",
       "      <td>203409,1.01214e+06</td>\n",
       "      <td>-2.0124,-24.5743</td>\n",
       "    </tr>\n",
       "    <tr>\n",
       "      <th>4</th>\n",
       "      <td>0</td>\n",
       "      <td>4</td>\n",
       "      <td>300909,632143</td>\n",
       "      <td>-89.2487,-118.45</td>\n",
       "    </tr>\n",
       "  </tbody>\n",
       "</table>\n",
       "</div>"
      ],
      "text/plain": [
       "   t  id                 loc                  v\n",
       "0  0   0       435909,520893  -192.233,-35.3033\n",
       "1  0   1       639659,945893    83.0765,27.2055\n",
       "2  0   2       540909,563393    163.625,-64.405\n",
       "3  0   3  203409,1.01214e+06   -2.0124,-24.5743\n",
       "4  0   4       300909,632143   -89.2487,-118.45"
      ]
     },
     "execution_count": 14,
     "metadata": {},
     "output_type": "execute_result"
    }
   ],
   "source": [
    "infile = \"events_Approach - Bypass1000.txt\"\n",
    "df = pd.read_csv(infile, sep='|', names=['t', 'id', 'loc', 'v'])\n",
    "# df = df.apply(lambda row: convert_loc(row), axis=1)\n",
    "# df = df.apply(lambda row: convert_speed(row), axis=1)\n",
    "# df['vx'] = df['vx'].astype(float)\n",
    "# df['vy'] = df['vy'].astype(float)\n",
    "# df['lon'] = df['lon'].astype(float)\n",
    "# df['lat'] = df['lat'].astype(float)\n",
    "df.head()"
   ]
  }
 ],
 "metadata": {
  "kernelspec": {
   "display_name": "Python 3",
   "language": "python",
   "name": "python3"
  },
  "language_info": {
   "codemirror_mode": {
    "name": "ipython",
    "version": 3
   },
   "file_extension": ".py",
   "mimetype": "text/x-python",
   "name": "python",
   "nbconvert_exporter": "python",
   "pygments_lexer": "ipython3",
   "version": "3.7.9"
  }
 },
 "nbformat": 4,
 "nbformat_minor": 4
}
