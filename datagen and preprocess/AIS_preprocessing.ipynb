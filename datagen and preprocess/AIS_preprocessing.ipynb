{
 "cells": [
  {
   "cell_type": "code",
   "execution_count": 10,
   "metadata": {},
   "outputs": [],
   "source": [
    "import pandas as pd\n",
    "import math\n",
    "import random\n",
    "def convert_speed(row):\n",
    "    PI = 3.1416\n",
    "    dir_x = 0\n",
    "    dir_y = 0\n",
    "    deg = row['course']\n",
    "    if (deg >= 0 or deg == 360) and deg < 90:\n",
    "        if deg == 0 or deg == 360:\n",
    "            dir_x = 0\n",
    "        else:\n",
    "            dir_x = 1\n",
    "        dir_y = 1\n",
    "    elif deg >= 90 and deg < 180:\n",
    "        if deg == 90:\n",
    "            dir_y = 0\n",
    "        else:\n",
    "            dir_y = -1\n",
    "        dir_x = 1\n",
    "    elif deg >= 180 and deg < 270:\n",
    "        if deg == 180:\n",
    "            dir_x = 0\n",
    "        else:\n",
    "            dir_x = -1\n",
    "        dir_y = -1\n",
    "    elif deg >= 270 and deg < 360:\n",
    "        if deg == 270:\n",
    "            dir_y = 0\n",
    "        else:\n",
    "            dir_y = 1\n",
    "        dir_x = -1\n",
    "    rad = deg * PI / 180\n",
    "    vx = round(row['speed'] * math.cos(rad), 5)\n",
    "    vy = round(row['speed'] * math.sin(rad), 5)\n",
    "    return str(vx)+','+str(vy)\n",
    "\n",
    "def random_radius(row):\n",
    "    SCALE_CONST = 1000000\n",
    "    MIN = 400\n",
    "    MAX = 600\n",
    "    new_rad = float(random.randint(MIN, MAX))/SCALE_CONST\n",
    "    return str(new_rad)"
   ]
  },
  {
   "cell_type": "markdown",
   "metadata": {},
   "source": [
    "## Get Vessel Data"
   ]
  },
  {
   "cell_type": "code",
   "execution_count": 11,
   "metadata": {},
   "outputs": [
    {
     "name": "stdout",
     "output_type": "stream",
     "text": [
      "<class 'pandas.core.frame.DataFrame'>\n",
      "Int64Index: 166633 entries, 0 to 371584\n",
      "Data columns (total 9 columns):\n",
      " #   Column       Non-Null Count   Dtype  \n",
      "---  ------       --------------   -----  \n",
      " 0   t            166633 non-null  object \n",
      " 1   shipid       166633 non-null  object \n",
      " 2   lon          166633 non-null  float64\n",
      " 3   lat          166633 non-null  float64\n",
      " 4   heading      166633 non-null  float64\n",
      " 5   course       166633 non-null  float64\n",
      " 6   speed        166633 non-null  float64\n",
      " 7   shiptype     166633 non-null  float64\n",
      " 8   destination  166633 non-null  object \n",
      "dtypes: float64(6), object(3)\n",
      "memory usage: 12.7+ MB\n"
     ]
    }
   ],
   "source": [
    "df = pd.read_csv('ais.csv')\n",
    "df = df.dropna()\n",
    "df.info()\n",
    "df['id'] = pd.factorize(df['shipid'])[0]\n",
    "df = df.loc[df['id'] <= 51]\n",
    "df = df.drop_duplicates(subset=['id'], keep='first')"
   ]
  },
  {
   "cell_type": "code",
   "execution_count": 8,
   "metadata": {},
   "outputs": [
    {
     "data": {
      "text/html": [
       "<div>\n",
       "<style scoped>\n",
       "    .dataframe tbody tr th:only-of-type {\n",
       "        vertical-align: middle;\n",
       "    }\n",
       "\n",
       "    .dataframe tbody tr th {\n",
       "        vertical-align: top;\n",
       "    }\n",
       "\n",
       "    .dataframe thead th {\n",
       "        text-align: right;\n",
       "    }\n",
       "</style>\n",
       "<table border=\"1\" class=\"dataframe\">\n",
       "  <thead>\n",
       "    <tr style=\"text-align: right;\">\n",
       "      <th></th>\n",
       "      <th>t</th>\n",
       "      <th>shipid</th>\n",
       "      <th>lon</th>\n",
       "      <th>lat</th>\n",
       "      <th>heading</th>\n",
       "      <th>course</th>\n",
       "      <th>speed</th>\n",
       "      <th>shiptype</th>\n",
       "      <th>destination</th>\n",
       "      <th>id</th>\n",
       "    </tr>\n",
       "  </thead>\n",
       "  <tbody>\n",
       "    <tr>\n",
       "      <th>0</th>\n",
       "      <td>2020-02-29T22:00:01Z</td>\n",
       "      <td>10807db4-2c77-4a7a-a418-0af8f0d672d8</td>\n",
       "      <td>23.537350</td>\n",
       "      <td>37.856717</td>\n",
       "      <td>40.0</td>\n",
       "      <td>0.0</td>\n",
       "      <td>0.0</td>\n",
       "      <td>70.0</td>\n",
       "      <td>GRPIR</td>\n",
       "      <td>0</td>\n",
       "    </tr>\n",
       "    <tr>\n",
       "      <th>1</th>\n",
       "      <td>2020-02-29T22:00:01Z</td>\n",
       "      <td>203d4b0c-6808-454b-ae7a-382dbd3d79e3</td>\n",
       "      <td>23.641017</td>\n",
       "      <td>37.948300</td>\n",
       "      <td>181.0</td>\n",
       "      <td>349.9</td>\n",
       "      <td>0.0</td>\n",
       "      <td>89.0</td>\n",
       "      <td>PIRAEUS</td>\n",
       "      <td>1</td>\n",
       "    </tr>\n",
       "    <tr>\n",
       "      <th>3</th>\n",
       "      <td>2020-02-29T22:00:01Z</td>\n",
       "      <td>8b998a42-caba-4baa-81e2-2318f290906e</td>\n",
       "      <td>23.668633</td>\n",
       "      <td>37.938840</td>\n",
       "      <td>296.0</td>\n",
       "      <td>0.1</td>\n",
       "      <td>0.0</td>\n",
       "      <td>37.0</td>\n",
       "      <td>AEGEAN SEA</td>\n",
       "      <td>2</td>\n",
       "    </tr>\n",
       "    <tr>\n",
       "      <th>5</th>\n",
       "      <td>2020-02-29T22:00:02Z</td>\n",
       "      <td>642d0bd7-519c-42d5-a294-215d889da3d1</td>\n",
       "      <td>23.547662</td>\n",
       "      <td>37.913112</td>\n",
       "      <td>344.0</td>\n",
       "      <td>33.3</td>\n",
       "      <td>0.1</td>\n",
       "      <td>80.0</td>\n",
       "      <td>PERIOCHI</td>\n",
       "      <td>3</td>\n",
       "    </tr>\n",
       "    <tr>\n",
       "      <th>10</th>\n",
       "      <td>2020-02-29T22:00:03Z</td>\n",
       "      <td>076431cc-5ae5-4a0f-a46c-726b56443ca5</td>\n",
       "      <td>23.683820</td>\n",
       "      <td>37.928758</td>\n",
       "      <td>23.0</td>\n",
       "      <td>248.2</td>\n",
       "      <td>0.0</td>\n",
       "      <td>37.0</td>\n",
       "      <td>PROVA</td>\n",
       "      <td>4</td>\n",
       "    </tr>\n",
       "    <tr>\n",
       "      <th>13</th>\n",
       "      <td>2020-02-29T22:00:03Z</td>\n",
       "      <td>6355d97e-0c5e-4ff0-95d7-02c7061677c5</td>\n",
       "      <td>23.566555</td>\n",
       "      <td>37.960955</td>\n",
       "      <td>185.0</td>\n",
       "      <td>344.1</td>\n",
       "      <td>0.1</td>\n",
       "      <td>37.0</td>\n",
       "      <td>PERAMA</td>\n",
       "      <td>5</td>\n",
       "    </tr>\n",
       "    <tr>\n",
       "      <th>14</th>\n",
       "      <td>2020-02-29T22:00:03Z</td>\n",
       "      <td>64cb614a-8687-409e-b2ce-d7bbf5d318d0</td>\n",
       "      <td>23.532077</td>\n",
       "      <td>37.879800</td>\n",
       "      <td>31.0</td>\n",
       "      <td>0.1</td>\n",
       "      <td>0.0</td>\n",
       "      <td>79.0</td>\n",
       "      <td>PIRAEUS AHORAGE</td>\n",
       "      <td>6</td>\n",
       "    </tr>\n",
       "    <tr>\n",
       "      <th>16</th>\n",
       "      <td>2020-02-29T22:00:04Z</td>\n",
       "      <td>1c46a91b-90ac-4a5e-85bc-461e446ea042</td>\n",
       "      <td>23.682718</td>\n",
       "      <td>37.930900</td>\n",
       "      <td>212.0</td>\n",
       "      <td>16.9</td>\n",
       "      <td>0.0</td>\n",
       "      <td>60.0</td>\n",
       "      <td>ARG/KOS</td>\n",
       "      <td>7</td>\n",
       "    </tr>\n",
       "    <tr>\n",
       "      <th>17</th>\n",
       "      <td>2020-02-29T22:00:04Z</td>\n",
       "      <td>a0d881e0-d774-4f2d-b2ad-23014b794aac</td>\n",
       "      <td>23.519545</td>\n",
       "      <td>37.828400</td>\n",
       "      <td>110.0</td>\n",
       "      <td>110.3</td>\n",
       "      <td>15.8</td>\n",
       "      <td>80.0</td>\n",
       "      <td>CARTAGENA</td>\n",
       "      <td>8</td>\n",
       "    </tr>\n",
       "    <tr>\n",
       "      <th>21</th>\n",
       "      <td>2020-02-29T22:00:05Z</td>\n",
       "      <td>94751f6e-79e7-48a2-a9a5-e5b609f617c8</td>\n",
       "      <td>23.506662</td>\n",
       "      <td>38.036450</td>\n",
       "      <td>179.0</td>\n",
       "      <td>182.0</td>\n",
       "      <td>0.0</td>\n",
       "      <td>52.0</td>\n",
       "      <td>ELEFSIS</td>\n",
       "      <td>9</td>\n",
       "    </tr>\n",
       "  </tbody>\n",
       "</table>\n",
       "</div>"
      ],
      "text/plain": [
       "                       t                                shipid        lon  \\\n",
       "0   2020-02-29T22:00:01Z  10807db4-2c77-4a7a-a418-0af8f0d672d8  23.537350   \n",
       "1   2020-02-29T22:00:01Z  203d4b0c-6808-454b-ae7a-382dbd3d79e3  23.641017   \n",
       "3   2020-02-29T22:00:01Z  8b998a42-caba-4baa-81e2-2318f290906e  23.668633   \n",
       "5   2020-02-29T22:00:02Z  642d0bd7-519c-42d5-a294-215d889da3d1  23.547662   \n",
       "10  2020-02-29T22:00:03Z  076431cc-5ae5-4a0f-a46c-726b56443ca5  23.683820   \n",
       "13  2020-02-29T22:00:03Z  6355d97e-0c5e-4ff0-95d7-02c7061677c5  23.566555   \n",
       "14  2020-02-29T22:00:03Z  64cb614a-8687-409e-b2ce-d7bbf5d318d0  23.532077   \n",
       "16  2020-02-29T22:00:04Z  1c46a91b-90ac-4a5e-85bc-461e446ea042  23.682718   \n",
       "17  2020-02-29T22:00:04Z  a0d881e0-d774-4f2d-b2ad-23014b794aac  23.519545   \n",
       "21  2020-02-29T22:00:05Z  94751f6e-79e7-48a2-a9a5-e5b609f617c8  23.506662   \n",
       "\n",
       "          lat  heading  course  speed  shiptype      destination  id  \n",
       "0   37.856717     40.0     0.0    0.0      70.0            GRPIR   0  \n",
       "1   37.948300    181.0   349.9    0.0      89.0          PIRAEUS   1  \n",
       "3   37.938840    296.0     0.1    0.0      37.0       AEGEAN SEA   2  \n",
       "5   37.913112    344.0    33.3    0.1      80.0         PERIOCHI   3  \n",
       "10  37.928758     23.0   248.2    0.0      37.0            PROVA   4  \n",
       "13  37.960955    185.0   344.1    0.1      37.0           PERAMA   5  \n",
       "14  37.879800     31.0     0.1    0.0      79.0  PIRAEUS AHORAGE   6  \n",
       "16  37.930900    212.0    16.9    0.0      60.0          ARG/KOS   7  \n",
       "17  37.828400    110.0   110.3   15.8      80.0        CARTAGENA   8  \n",
       "21  38.036450    179.0   182.0    0.0      52.0          ELEFSIS   9  "
      ]
     },
     "execution_count": 8,
     "metadata": {},
     "output_type": "execute_result"
    }
   ],
   "source": [
    "df.head(10)"
   ]
  },
  {
   "cell_type": "code",
   "execution_count": 7,
   "metadata": {},
   "outputs": [
    {
     "data": {
      "text/plain": [
       "array([70., 89., 37., 80., 79., 60., 52.,  1., 71., 32., 40., 69., 90.])"
      ]
     },
     "execution_count": 7,
     "metadata": {},
     "output_type": "execute_result"
    }
   ],
   "source": [
    "df.shiptype.unique()"
   ]
  },
  {
   "cell_type": "code",
   "execution_count": 62,
   "metadata": {},
   "outputs": [
    {
     "name": "stdout",
     "output_type": "stream",
     "text": [
      "<class 'pandas.core.frame.DataFrame'>\n",
      "Int64Index: 52 entries, 0 to 486\n",
      "Data columns (total 6 columns):\n",
      " #   Column  Non-Null Count  Dtype  \n",
      "---  ------  --------------  -----  \n",
      " 0   t       52 non-null     int64  \n",
      " 1   lon     52 non-null     float64\n",
      " 2   lat     52 non-null     float64\n",
      " 3   id      52 non-null     int64  \n",
      " 4   v       52 non-null     object \n",
      " 5   r       52 non-null     object \n",
      "dtypes: float64(2), int64(2), object(2)\n",
      "memory usage: 2.8+ KB\n"
     ]
    }
   ],
   "source": [
    "df['t'] = pd.factorize(df['t'])[0]\n",
    "df['v'] = df.apply(lambda row: convert_speed(row), axis=1)\n",
    "df['r'] = df.apply(lambda row: random_radius(row), axis=1)\n",
    "del df['speed']\n",
    "del df['course']\n",
    "del df['shiptype']\n",
    "del df['destination']\n",
    "del df['heading']\n",
    "del df['shipid']\n",
    "df.info()"
   ]
  },
  {
   "cell_type": "code",
   "execution_count": 63,
   "metadata": {},
   "outputs": [],
   "source": [
    "filename = 'vessel_AIS.csv'\n",
    "df.to_csv(filename, index=False, sep='|')"
   ]
  },
  {
   "cell_type": "markdown",
   "metadata": {},
   "source": [
    "## Get Obj Data"
   ]
  },
  {
   "cell_type": "code",
   "execution_count": 64,
   "metadata": {},
   "outputs": [
    {
     "name": "stdout",
     "output_type": "stream",
     "text": [
      "<class 'pandas.core.frame.DataFrame'>\n",
      "Int64Index: 166633 entries, 0 to 371584\n",
      "Data columns (total 9 columns):\n",
      " #   Column       Non-Null Count   Dtype  \n",
      "---  ------       --------------   -----  \n",
      " 0   t            166633 non-null  object \n",
      " 1   shipid       166633 non-null  object \n",
      " 2   lon          166633 non-null  float64\n",
      " 3   lat          166633 non-null  float64\n",
      " 4   heading      166633 non-null  float64\n",
      " 5   course       166633 non-null  float64\n",
      " 6   speed        166633 non-null  float64\n",
      " 7   shiptype     166633 non-null  float64\n",
      " 8   destination  166633 non-null  object \n",
      "dtypes: float64(6), object(3)\n",
      "memory usage: 12.7+ MB\n"
     ]
    }
   ],
   "source": [
    "df = pd.read_csv('ais.csv')\n",
    "df = df.dropna()\n",
    "df.info()\n",
    "df['id'] = pd.factorize(df['shipid'])[0]\n",
    "df = df.loc[df['id'] > 51]\n",
    "df['id'] = pd.factorize(df['id'])[0]"
   ]
  },
  {
   "cell_type": "code",
   "execution_count": 65,
   "metadata": {},
   "outputs": [
    {
     "data": {
      "text/plain": [
       "120"
      ]
     },
     "execution_count": 65,
     "metadata": {},
     "output_type": "execute_result"
    }
   ],
   "source": [
    "df.id.nunique()"
   ]
  },
  {
   "cell_type": "code",
   "execution_count": 66,
   "metadata": {},
   "outputs": [
    {
     "name": "stdout",
     "output_type": "stream",
     "text": [
      "<class 'pandas.core.frame.DataFrame'>\n",
      "Int64Index: 65148 entries, 502 to 371583\n",
      "Data columns (total 5 columns):\n",
      " #   Column  Non-Null Count  Dtype  \n",
      "---  ------  --------------  -----  \n",
      " 0   t       65148 non-null  int64  \n",
      " 1   lon     65148 non-null  float64\n",
      " 2   lat     65148 non-null  float64\n",
      " 3   id      65148 non-null  int64  \n",
      " 4   v       65148 non-null  object \n",
      "dtypes: float64(2), int64(2), object(1)\n",
      "memory usage: 3.0+ MB\n"
     ]
    }
   ],
   "source": [
    "df['t'] = pd.factorize(df['t'])[0]\n",
    "df['v'] = df.apply(lambda row: convert_speed(row), axis=1)\n",
    "del df['speed']\n",
    "del df['course']\n",
    "del df['shiptype']\n",
    "del df['destination']\n",
    "del df['heading']\n",
    "del df['shipid']\n",
    "df.info()"
   ]
  },
  {
   "cell_type": "code",
   "execution_count": 67,
   "metadata": {},
   "outputs": [],
   "source": [
    "filename = 'events_AIS.csv'\n",
    "df.to_csv(filename, index=False, sep='|')"
   ]
  }
 ],
 "metadata": {
  "kernelspec": {
   "display_name": "Python 3",
   "language": "python",
   "name": "python3"
  },
  "language_info": {
   "codemirror_mode": {
    "name": "ipython",
    "version": 3
   },
   "file_extension": ".py",
   "mimetype": "text/x-python",
   "name": "python",
   "nbconvert_exporter": "python",
   "pygments_lexer": "ipython3",
   "version": "3.7.9"
  }
 },
 "nbformat": 4,
 "nbformat_minor": 4
}
