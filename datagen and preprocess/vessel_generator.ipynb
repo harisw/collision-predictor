{
 "cells": [
  {
   "cell_type": "code",
   "execution_count": 2,
   "metadata": {},
   "outputs": [],
   "source": [
    "import random\n",
    "import numpy as np\n",
    "import pandas as pd"
   ]
  },
  {
   "cell_type": "code",
   "execution_count": 3,
   "metadata": {},
   "outputs": [],
   "source": [
    "def convert_loc(row):  #convert longlat to meter/km\n",
    "    splitted = row['loc'].split(',')\n",
    "    row['lon'] = splitted[0]\n",
    "    row['lat'] = splitted[1]\n",
    "    return row\n",
    "\n",
    "def convert_speed(row):  #convert longlat to meter/km\n",
    "    splitted = row['v'].split(',')\n",
    "    row['vx'] = splitted[0]\n",
    "    row['vy'] = splitted[1]\n",
    "    return row\n",
    "def join_cols(row):\n",
    "    row['loc'] = str(row['lon'])+','+str(row['lat'])\n",
    "    row['v'] = str(row['vx'])+','+str(row['vy'])\n",
    "    return row\n",
    "def trunc(values, decs=0):\n",
    "    return np.trunc(values*10**decs)/(10**decs)"
   ]
  },
  {
   "cell_type": "code",
   "execution_count": 49,
   "metadata": {},
   "outputs": [
    {
     "name": "stdout",
     "output_type": "stream",
     "text": [
      "Bypass502\n",
      "Stop1000\n",
      "Stop10000\n",
      "Stop100000\n",
      "Stop252\n",
      "Stop5000\n",
      "Stop50000\n",
      "Stop502 UNBALAN\n",
      "Stop502\n",
      "U Turn502\n"
     ]
    }
   ],
   "source": [
    "filenamesList = glob.glob('events_Approach*.txt')\n",
    "for i in filenamesList:\n",
    "    print(i.split(' - ')[1].replace('.txt', ''))"
   ]
  },
  {
   "cell_type": "code",
   "execution_count": 50,
   "metadata": {},
   "outputs": [
    {
     "name": "stdout",
     "output_type": "stream",
     "text": [
      "Processing events_Approach - Bypass502.txt...\n",
      "Processing events_Approach - Stop1000.txt...\n",
      "Processing events_Approach - Stop10000.txt...\n",
      "Processing events_Approach - Stop100000.txt...\n",
      "Processing events_Approach - Stop252.txt...\n",
      "Processing events_Approach - Stop5000.txt...\n",
      "Processing events_Approach - Stop50000.txt...\n",
      "Processing events_Approach - Stop502 UNBALAN.txt...\n",
      "Processing events_Approach - Stop502.txt...\n",
      "Processing events_Approach - U Turn502.txt...\n"
     ]
    }
   ],
   "source": [
    "import glob\n",
    "\n",
    "filenamesList = glob.glob('events_Approach*.txt')\n",
    "for target in filenamesList:\n",
    "    print(\"Processing \"+target+\"...\")\n",
    "    df = pd.read_csv(target, sep='|', names=['t', 'id', 'loc', 'v', 'r'])\n",
    "    newname = target.split(' - ')[1].replace('.txt', '')\n",
    "    #Vessel datas\n",
    "    df_vess = df.loc[df['id'] > 300]\n",
    "    df_vess = df_vess.loc[df_vess['t'] == 0]\n",
    "    df_vess['id'] = pd.factorize(df_vess['id'])[0]\n",
    "    del df_vess['t']\n",
    "    filename = 'vessel_'+newname+'.csv'\n",
    "    df_vess.to_csv(filename, index=False, sep=\"|\", header=False)\n",
    "\n",
    "    #Obj datas\n",
    "    df_obj = df.drop(df[df.id > 300].index)\n",
    "    filename = 'obj_'+newname+'.csv'\n",
    "    df_obj.to_csv(filename, index=False, sep=\"|\", header=False)"
   ]
  },
  {
   "cell_type": "code",
   "execution_count": 44,
   "metadata": {},
   "outputs": [
    {
     "data": {
      "text/html": [
       "<div>\n",
       "<style scoped>\n",
       "    .dataframe tbody tr th:only-of-type {\n",
       "        vertical-align: middle;\n",
       "    }\n",
       "\n",
       "    .dataframe tbody tr th {\n",
       "        vertical-align: top;\n",
       "    }\n",
       "\n",
       "    .dataframe thead th {\n",
       "        text-align: right;\n",
       "    }\n",
       "</style>\n",
       "<table border=\"1\" class=\"dataframe\">\n",
       "  <thead>\n",
       "    <tr style=\"text-align: right;\">\n",
       "      <th></th>\n",
       "      <th>t</th>\n",
       "      <th>id</th>\n",
       "      <th>loc</th>\n",
       "      <th>v</th>\n",
       "      <th>r</th>\n",
       "    </tr>\n",
       "  </thead>\n",
       "  <tbody>\n",
       "    <tr>\n",
       "      <th>0</th>\n",
       "      <td>0</td>\n",
       "      <td>0</td>\n",
       "      <td>-50340.9,693393</td>\n",
       "      <td>51.0754,-42.8456</td>\n",
       "      <td>547</td>\n",
       "    </tr>\n",
       "    <tr>\n",
       "      <th>1</th>\n",
       "      <td>0</td>\n",
       "      <td>1</td>\n",
       "      <td>49659.1,407143</td>\n",
       "      <td>304.483,135.651</td>\n",
       "      <td>786</td>\n",
       "    </tr>\n",
       "    <tr>\n",
       "      <th>2</th>\n",
       "      <td>0</td>\n",
       "      <td>2</td>\n",
       "      <td>53409.1,555893</td>\n",
       "      <td>149.663,-73.3402</td>\n",
       "      <td>607</td>\n",
       "    </tr>\n",
       "    <tr>\n",
       "      <th>3</th>\n",
       "      <td>0</td>\n",
       "      <td>3</td>\n",
       "      <td>84659.1,400893</td>\n",
       "      <td>174.186,128.855</td>\n",
       "      <td>779</td>\n",
       "    </tr>\n",
       "    <tr>\n",
       "      <th>4</th>\n",
       "      <td>0</td>\n",
       "      <td>4</td>\n",
       "      <td>255909,494643</td>\n",
       "      <td>-77.9585,-29.4434</td>\n",
       "      <td>654</td>\n",
       "    </tr>\n",
       "  </tbody>\n",
       "</table>\n",
       "</div>"
      ],
      "text/plain": [
       "   t  id              loc                  v    r\n",
       "0  0   0  -50340.9,693393   51.0754,-42.8456  547\n",
       "1  0   1   49659.1,407143    304.483,135.651  786\n",
       "2  0   2   53409.1,555893   149.663,-73.3402  607\n",
       "3  0   3   84659.1,400893    174.186,128.855  779\n",
       "4  0   4    255909,494643  -77.9585,-29.4434  654"
      ]
     },
     "execution_count": 44,
     "metadata": {},
     "output_type": "execute_result"
    }
   ],
   "source": [
    "infile = \"events_Approach - U Turn502.txt\"\n",
    "df = pd.read_csv(infile, sep='|', names=['t', 'id', 'loc', 'v', 'r'])\n",
    "# df = df.apply(lambda row: convert_loc(row), axis=1)\n",
    "# df = df.apply(lambda row: convert_speed(row), axis=1)\n",
    "# df['vx'] = df['vx'].astype(float)\n",
    "# df['vy'] = df['vy'].astype(float)\n",
    "# df['lon'] = df['lon'].astype(float)\n",
    "# df['lat'] = df['lat'].astype(float)\n",
    "df.head()"
   ]
  },
  {
   "cell_type": "code",
   "execution_count": 45,
   "metadata": {},
   "outputs": [
    {
     "name": "stdout",
     "output_type": "stream",
     "text": [
      "<class 'pandas.core.frame.DataFrame'>\n",
      "Int64Index: 201 entries, 301 to 501\n",
      "Data columns (total 4 columns):\n",
      " #   Column  Non-Null Count  Dtype \n",
      "---  ------  --------------  ----- \n",
      " 0   id      201 non-null    int64 \n",
      " 1   loc     201 non-null    object\n",
      " 2   v       201 non-null    object\n",
      " 3   r       201 non-null    int64 \n",
      "dtypes: int64(2), object(2)\n",
      "memory usage: 7.9+ KB\n"
     ]
    }
   ],
   "source": [
    "#Vessel datas\n",
    "df_vess = df.loc[df['id'] > 300]\n",
    "df_vess = df_vess.loc[df_vess['t'] == 0]\n",
    "df_vess['id'] = pd.factorize(df_vess['id'])[0]\n",
    "del df_vess['t']\n",
    "filename = 'vessel_'+str(len(df_vess))+'.csv'\n",
    "df_vess.to_csv(filename, index=False, sep=\"|\", header=False)\n",
    "df_vess.info()"
   ]
  },
  {
   "cell_type": "code",
   "execution_count": 43,
   "metadata": {},
   "outputs": [
    {
     "name": "stdout",
     "output_type": "stream",
     "text": [
      "<class 'pandas.core.frame.DataFrame'>\n",
      "Int64Index: 60200 entries, 0 to 100198\n",
      "Data columns (total 5 columns):\n",
      " #   Column  Non-Null Count  Dtype \n",
      "---  ------  --------------  ----- \n",
      " 0   t       60200 non-null  int64 \n",
      " 1   id      60200 non-null  int64 \n",
      " 2   loc     60200 non-null  object\n",
      " 3   v       60200 non-null  object\n",
      " 4   r       60200 non-null  int64 \n",
      "dtypes: int64(3), object(2)\n",
      "memory usage: 2.8+ MB\n"
     ]
    }
   ],
   "source": [
    "#Obj datas\n",
    "df_obj = df.drop(df[df.id > 300].index)\n",
    "filename = 'obj_'+str(df_obj.id.nunique())+'.csv'\n",
    "df_obj.to_csv(filename, index=False, sep=\"|\", header=False)\n",
    "df_obj.info()"
   ]
  },
  {
   "cell_type": "code",
   "execution_count": 21,
   "metadata": {},
   "outputs": [
    {
     "name": "stdout",
     "output_type": "stream",
     "text": [
      "lon mean&std is 327933.06507 to 268541.72758\n",
      "lat mean&std is 642868.54999 to 243375.45802\n",
      "<class 'pandas.core.frame.DataFrame'>\n",
      "RangeIndex: 200000 entries, 0 to 199999\n",
      "Data columns (total 4 columns):\n",
      " #   Column  Non-Null Count   Dtype \n",
      "---  ------  --------------   ----- \n",
      " 0   t       200000 non-null  int64 \n",
      " 1   id      200000 non-null  int64 \n",
      " 2   loc     200000 non-null  object\n",
      " 3   v       200000 non-null  object\n",
      "dtypes: int64(2), object(2)\n",
      "memory usage: 6.1+ MB\n"
     ]
    }
   ],
   "source": [
    "# MIN_vx = df.vx.min()\n",
    "# MAX_vx = df.vx.max()\n",
    "# MIN_vy = df.vy.min()\n",
    "# MAX_vy = df.vy.max()\n",
    "# MIN_lon = df.lon.min()\n",
    "# MAX_lon = df.lon.max()\n",
    "# MIN_lat = df.lat.min()\n",
    "# MAX_lat = df.lat.max()\n",
    "MIN_vx = -220.48\n",
    "MAX_vx = 919.433\n",
    "MIN_vy = -622.385\n",
    "MAX_vy = 347.639\n",
    "MIN_lon = -159091\n",
    "MAX_lon = 748657\n",
    "MIN_lat = 207143\n",
    "MAX_lat = 1077140\n",
    "lon_mean = 327933.06507\n",
    "lon_std = 268541.72758\n",
    "lat_mean = 642868.54999\n",
    "lat_std = 243375.45802\n",
    "print(\"lon mean&std is \"+str(lon_mean)+\" to \" +str(lon_std))\n",
    "print(\"lat mean&std is \"+str(lat_mean)+\" to \" +str(lat_std))\n",
    "df.info()"
   ]
  },
  {
   "cell_type": "code",
   "execution_count": 22,
   "metadata": {},
   "outputs": [
    {
     "data": {
      "text/html": [
       "<div>\n",
       "<style scoped>\n",
       "    .dataframe tbody tr th:only-of-type {\n",
       "        vertical-align: middle;\n",
       "    }\n",
       "\n",
       "    .dataframe tbody tr th {\n",
       "        vertical-align: top;\n",
       "    }\n",
       "\n",
       "    .dataframe thead th {\n",
       "        text-align: right;\n",
       "    }\n",
       "</style>\n",
       "<table border=\"1\" class=\"dataframe\">\n",
       "  <thead>\n",
       "    <tr style=\"text-align: right;\">\n",
       "      <th></th>\n",
       "      <th>id</th>\n",
       "      <th>vx</th>\n",
       "      <th>vy</th>\n",
       "      <th>r</th>\n",
       "      <th>lon</th>\n",
       "      <th>lat</th>\n",
       "    </tr>\n",
       "  </thead>\n",
       "  <tbody>\n",
       "    <tr>\n",
       "      <th>0</th>\n",
       "      <td>0</td>\n",
       "      <td>236.6760</td>\n",
       "      <td>187.3267</td>\n",
       "      <td>362</td>\n",
       "      <td>55642.4565</td>\n",
       "      <td>655602.1580</td>\n",
       "    </tr>\n",
       "    <tr>\n",
       "      <th>1</th>\n",
       "      <td>1</td>\n",
       "      <td>538.3053</td>\n",
       "      <td>-572.3759</td>\n",
       "      <td>364</td>\n",
       "      <td>243196.4824</td>\n",
       "      <td>729136.0059</td>\n",
       "    </tr>\n",
       "    <tr>\n",
       "      <th>2</th>\n",
       "      <td>2</td>\n",
       "      <td>833.1571</td>\n",
       "      <td>109.9938</td>\n",
       "      <td>466</td>\n",
       "      <td>147531.5568</td>\n",
       "      <td>483841.7838</td>\n",
       "    </tr>\n",
       "    <tr>\n",
       "      <th>3</th>\n",
       "      <td>3</td>\n",
       "      <td>837.6722</td>\n",
       "      <td>-45.8719</td>\n",
       "      <td>336</td>\n",
       "      <td>116093.5041</td>\n",
       "      <td>335733.9667</td>\n",
       "    </tr>\n",
       "    <tr>\n",
       "      <th>4</th>\n",
       "      <td>4</td>\n",
       "      <td>605.4281</td>\n",
       "      <td>-373.9092</td>\n",
       "      <td>461</td>\n",
       "      <td>56988.1644</td>\n",
       "      <td>-10711.0136</td>\n",
       "    </tr>\n",
       "  </tbody>\n",
       "</table>\n",
       "</div>"
      ],
      "text/plain": [
       "   id        vx        vy    r          lon          lat\n",
       "0   0  236.6760  187.3267  362   55642.4565  655602.1580\n",
       "1   1  538.3053 -572.3759  364  243196.4824  729136.0059\n",
       "2   2  833.1571  109.9938  466  147531.5568  483841.7838\n",
       "3   3  837.6722  -45.8719  336  116093.5041  335733.9667\n",
       "4   4  605.4281 -373.9092  461   56988.1644  -10711.0136"
      ]
     },
     "execution_count": 22,
     "metadata": {},
     "output_type": "execute_result"
    }
   ],
   "source": [
    "vesselNum = int(df.id.max()/2)\n",
    "rMin = 300\n",
    "rMax = 500\n",
    "data = []\n",
    "i = 0\n",
    "while i < vesselNum:\n",
    "    vesID = i\n",
    "    vx = random.uniform(MIN_vx, MAX_vx)\n",
    "    vy = random.uniform(MIN_vy, MAX_vy)\n",
    "    r = random.randrange(rMin, rMax)\n",
    "    data.append([vesID, vx, vy, r])\n",
    "    i += 1\n",
    "    \n",
    "result = pd.DataFrame(data, columns = ['id','vx', 'vy', 'r'])\n",
    "result['lon'] = trunc(np.random.normal(lon_mean, lon_std, vesselNum), 4)\n",
    "result['lat'] = trunc(np.random.normal(lat_mean, lat_std, vesselNum), 4)\n",
    "result['vx'] = trunc(result['vx'], 4)\n",
    "result['vy'] = trunc(result['vy'], 4)\n",
    "result.head()"
   ]
  },
  {
   "cell_type": "code",
   "execution_count": 23,
   "metadata": {},
   "outputs": [
    {
     "data": {
      "text/html": [
       "<div>\n",
       "<style scoped>\n",
       "    .dataframe tbody tr th:only-of-type {\n",
       "        vertical-align: middle;\n",
       "    }\n",
       "\n",
       "    .dataframe tbody tr th {\n",
       "        vertical-align: top;\n",
       "    }\n",
       "\n",
       "    .dataframe thead th {\n",
       "        text-align: right;\n",
       "    }\n",
       "</style>\n",
       "<table border=\"1\" class=\"dataframe\">\n",
       "  <thead>\n",
       "    <tr style=\"text-align: right;\">\n",
       "      <th></th>\n",
       "      <th>id</th>\n",
       "      <th>loc</th>\n",
       "      <th>v</th>\n",
       "      <th>r</th>\n",
       "    </tr>\n",
       "  </thead>\n",
       "  <tbody>\n",
       "    <tr>\n",
       "      <th>0</th>\n",
       "      <td>0</td>\n",
       "      <td>55642.4565,655602.158</td>\n",
       "      <td>236.676,187.3267</td>\n",
       "      <td>362.0</td>\n",
       "    </tr>\n",
       "    <tr>\n",
       "      <th>1</th>\n",
       "      <td>1</td>\n",
       "      <td>243196.4824,729136.0059</td>\n",
       "      <td>538.3053,-572.3759</td>\n",
       "      <td>364.0</td>\n",
       "    </tr>\n",
       "    <tr>\n",
       "      <th>2</th>\n",
       "      <td>2</td>\n",
       "      <td>147531.5568,483841.7838</td>\n",
       "      <td>833.1571,109.9938</td>\n",
       "      <td>466.0</td>\n",
       "    </tr>\n",
       "    <tr>\n",
       "      <th>3</th>\n",
       "      <td>3</td>\n",
       "      <td>116093.5041,335733.9667</td>\n",
       "      <td>837.6722,-45.8719</td>\n",
       "      <td>336.0</td>\n",
       "    </tr>\n",
       "    <tr>\n",
       "      <th>4</th>\n",
       "      <td>4</td>\n",
       "      <td>56988.1644,-10711.0136</td>\n",
       "      <td>605.4281,-373.9092</td>\n",
       "      <td>461.0</td>\n",
       "    </tr>\n",
       "  </tbody>\n",
       "</table>\n",
       "</div>"
      ],
      "text/plain": [
       "   id                      loc                   v      r\n",
       "0   0    55642.4565,655602.158    236.676,187.3267  362.0\n",
       "1   1  243196.4824,729136.0059  538.3053,-572.3759  364.0\n",
       "2   2  147531.5568,483841.7838   833.1571,109.9938  466.0\n",
       "3   3  116093.5041,335733.9667   837.6722,-45.8719  336.0\n",
       "4   4   56988.1644,-10711.0136  605.4281,-373.9092  461.0"
      ]
     },
     "execution_count": 23,
     "metadata": {},
     "output_type": "execute_result"
    }
   ],
   "source": [
    "result = result.apply(lambda row: join_cols(row), axis=1)\n",
    "del result['vx']\n",
    "del result['vy']\n",
    "del result['lon']\n",
    "del result['lat']\n",
    "result['id'] = result['id'].astype(int)\n",
    "neworder = ['id','loc','v', 'r']\n",
    "result=result.reindex(columns=neworder)\n",
    "result.head()"
   ]
  },
  {
   "cell_type": "code",
   "execution_count": 24,
   "metadata": {},
   "outputs": [],
   "source": [
    "filename = 'vessel_'+str(len(result))+'.csv'\n",
    "result.to_csv(filename, sep='|', header=False, index=False)"
   ]
  }
 ],
 "metadata": {
  "kernelspec": {
   "display_name": "Python 3",
   "language": "python",
   "name": "python3"
  },
  "language_info": {
   "codemirror_mode": {
    "name": "ipython",
    "version": 3
   },
   "file_extension": ".py",
   "mimetype": "text/x-python",
   "name": "python",
   "nbconvert_exporter": "python",
   "pygments_lexer": "ipython3",
   "version": "3.7.9"
  }
 },
 "nbformat": 4,
 "nbformat_minor": 4
}
