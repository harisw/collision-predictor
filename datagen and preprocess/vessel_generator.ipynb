{
 "cells": [
  {
   "cell_type": "code",
   "execution_count": 1,
   "metadata": {},
   "outputs": [],
   "source": [
    "import random\n",
    "import numpy as np\n",
    "import pandas as pd"
   ]
  },
  {
   "cell_type": "code",
   "execution_count": 2,
   "metadata": {},
   "outputs": [],
   "source": [
    "def convert_loc(row):  #convert longlat to meter/km\n",
    "    splitted = row['loc'].split(',')\n",
    "    row['lon'] = splitted[0]\n",
    "    row['lat'] = splitted[1]\n",
    "    return row\n",
    "def convert_speed(row):  #convert longlat to meter/km\n",
    "    splitted = row['v'].split(',')\n",
    "    row['vx'] = splitted[0]\n",
    "    row['vy'] = splitted[1]\n",
    "    return row"
   ]
  },
  {
   "cell_type": "code",
   "execution_count": 3,
   "metadata": {},
   "outputs": [],
   "source": [
    "infile = \"events_Approach - Bypass250.txt\"\n",
    "df = pd.read_csv(infile, sep='|', names=['t', 'id', 'loc', 'v'])\n",
    "df = df.apply(lambda row: convert_loc(row), axis=1)\n",
    "df = df.apply(lambda row: convert_speed(row), axis=1)\n",
    "df['vx'] = df['vx'].astype(float)\n",
    "df['vy'] = df['vy'].astype(float)\n",
    "df['lon'] = df['lon'].astype(float)\n",
    "df['lat'] = df['lat'].astype(float)"
   ]
  },
  {
   "cell_type": "code",
   "execution_count": 4,
   "metadata": {},
   "outputs": [
    {
     "data": {
      "text/html": [
       "<div>\n",
       "<style scoped>\n",
       "    .dataframe tbody tr th:only-of-type {\n",
       "        vertical-align: middle;\n",
       "    }\n",
       "\n",
       "    .dataframe tbody tr th {\n",
       "        vertical-align: top;\n",
       "    }\n",
       "\n",
       "    .dataframe thead th {\n",
       "        text-align: right;\n",
       "    }\n",
       "</style>\n",
       "<table border=\"1\" class=\"dataframe\">\n",
       "  <thead>\n",
       "    <tr style=\"text-align: right;\">\n",
       "      <th></th>\n",
       "      <th>t</th>\n",
       "      <th>id</th>\n",
       "      <th>loc</th>\n",
       "      <th>v</th>\n",
       "      <th>lon</th>\n",
       "      <th>lat</th>\n",
       "      <th>vx</th>\n",
       "      <th>vy</th>\n",
       "    </tr>\n",
       "  </thead>\n",
       "  <tbody>\n",
       "    <tr>\n",
       "      <th>0</th>\n",
       "      <td>0</td>\n",
       "      <td>0</td>\n",
       "      <td>444659,485893</td>\n",
       "      <td>-199.664,-4.03242</td>\n",
       "      <td>444659.0</td>\n",
       "      <td>485893.0</td>\n",
       "      <td>-199.66400</td>\n",
       "      <td>-4.03242</td>\n",
       "    </tr>\n",
       "    <tr>\n",
       "      <th>1</th>\n",
       "      <td>0</td>\n",
       "      <td>1</td>\n",
       "      <td>-74090.9,213393</td>\n",
       "      <td>218.884,208.741</td>\n",
       "      <td>-74090.9</td>\n",
       "      <td>213393.0</td>\n",
       "      <td>218.88400</td>\n",
       "      <td>208.74100</td>\n",
       "    </tr>\n",
       "    <tr>\n",
       "      <th>2</th>\n",
       "      <td>0</td>\n",
       "      <td>2</td>\n",
       "      <td>-101591,987143</td>\n",
       "      <td>236.781,-2.63515</td>\n",
       "      <td>-101591.0</td>\n",
       "      <td>987143.0</td>\n",
       "      <td>236.78100</td>\n",
       "      <td>-2.63515</td>\n",
       "    </tr>\n",
       "    <tr>\n",
       "      <th>3</th>\n",
       "      <td>0</td>\n",
       "      <td>3</td>\n",
       "      <td>195909,633393</td>\n",
       "      <td>4.99736,-122.464</td>\n",
       "      <td>195909.0</td>\n",
       "      <td>633393.0</td>\n",
       "      <td>4.99736</td>\n",
       "      <td>-122.46400</td>\n",
       "    </tr>\n",
       "    <tr>\n",
       "      <th>4</th>\n",
       "      <td>0</td>\n",
       "      <td>4</td>\n",
       "      <td>-109091,525893</td>\n",
       "      <td>243.18,-33.8731</td>\n",
       "      <td>-109091.0</td>\n",
       "      <td>525893.0</td>\n",
       "      <td>243.18000</td>\n",
       "      <td>-33.87310</td>\n",
       "    </tr>\n",
       "  </tbody>\n",
       "</table>\n",
       "</div>"
      ],
      "text/plain": [
       "   t  id              loc                  v       lon       lat         vx  \\\n",
       "0  0   0    444659,485893  -199.664,-4.03242  444659.0  485893.0 -199.66400   \n",
       "1  0   1  -74090.9,213393    218.884,208.741  -74090.9  213393.0  218.88400   \n",
       "2  0   2   -101591,987143   236.781,-2.63515 -101591.0  987143.0  236.78100   \n",
       "3  0   3    195909,633393   4.99736,-122.464  195909.0  633393.0    4.99736   \n",
       "4  0   4   -109091,525893    243.18,-33.8731 -109091.0  525893.0  243.18000   \n",
       "\n",
       "          vy  \n",
       "0   -4.03242  \n",
       "1  208.74100  \n",
       "2   -2.63515  \n",
       "3 -122.46400  \n",
       "4  -33.87310  "
      ]
     },
     "execution_count": 4,
     "metadata": {},
     "output_type": "execute_result"
    }
   ],
   "source": [
    "df.head()"
   ]
  },
  {
   "cell_type": "code",
   "execution_count": 5,
   "metadata": {},
   "outputs": [
    {
     "name": "stdout",
     "output_type": "stream",
     "text": [
      "vx range is -282.472 to 480.206\n",
      "vy range is -198.659 to 545.744\n",
      "lon range is -155341.0 to 752877.0\n",
      "latrange is 212143.0 to 1078390.0\n"
     ]
    }
   ],
   "source": [
    "MIN_vx = df.vx.min()\n",
    "MAX_vx = df.vx.max()\n",
    "MIN_vy = df.vy.min()\n",
    "MAX_vy = df.vy.max()\n",
    "\n",
    "MIN_lon = df.lon.min()\n",
    "MAX_lon = df.lon.max()\n",
    "MIN_lat = df.lat.min()\n",
    "MAX_lat = df.lat.max()\n",
    "print(\"vx range is \"+str(MIN_vx)+\" to \" +str(MAX_vx))\n",
    "print(\"vy range is \"+str(MIN_vy)+\" to \" +str(MAX_vy))\n",
    "print(\"lon range is \"+str(MIN_lon)+\" to \" +str(MAX_lon))\n",
    "print(\"latrange is \"+str(MIN_lat)+\" to \" +str(MAX_lat))"
   ]
  },
  {
   "cell_type": "code",
   "execution_count": 6,
   "metadata": {},
   "outputs": [
    {
     "data": {
      "text/plain": [
       "0    444659.0\n",
       "1    -74090.9\n",
       "2   -101591.0\n",
       "3    195909.0\n",
       "4   -109091.0\n",
       "Name: lon, dtype: float64"
      ]
     },
     "execution_count": 6,
     "metadata": {},
     "output_type": "execute_result"
    }
   ],
   "source": [
    "df.lon.head()"
   ]
  },
  {
   "cell_type": "code",
   "execution_count": 8,
   "metadata": {},
   "outputs": [
    {
     "name": "stdout",
     "output_type": "stream",
     "text": [
      "<class 'pandas.core.frame.DataFrame'>\n",
      "RangeIndex: 12500 entries, 0 to 12499\n",
      "Data columns (total 8 columns):\n",
      " #   Column  Non-Null Count  Dtype  \n",
      "---  ------  --------------  -----  \n",
      " 0   t       12500 non-null  int64  \n",
      " 1   id      12500 non-null  int64  \n",
      " 2   loc     12500 non-null  object \n",
      " 3   v       12500 non-null  object \n",
      " 4   lon     12500 non-null  float64\n",
      " 5   lat     12500 non-null  float64\n",
      " 6   vx      12500 non-null  float64\n",
      " 7   vy      12500 non-null  float64\n",
      "dtypes: float64(4), int64(2), object(2)\n",
      "memory usage: 781.4+ KB\n"
     ]
    }
   ],
   "source": [
    "df.info()"
   ]
  },
  {
   "cell_type": "code",
   "execution_count": 12,
   "metadata": {},
   "outputs": [],
   "source": [
    "def trunc(values, decs=0):\n",
    "    return np.trunc(values*10**decs)/(10**decs)"
   ]
  },
  {
   "cell_type": "code",
   "execution_count": 25,
   "metadata": {},
   "outputs": [
    {
     "data": {
      "text/html": [
       "<div>\n",
       "<style scoped>\n",
       "    .dataframe tbody tr th:only-of-type {\n",
       "        vertical-align: middle;\n",
       "    }\n",
       "\n",
       "    .dataframe tbody tr th {\n",
       "        vertical-align: top;\n",
       "    }\n",
       "\n",
       "    .dataframe thead th {\n",
       "        text-align: right;\n",
       "    }\n",
       "</style>\n",
       "<table border=\"1\" class=\"dataframe\">\n",
       "  <thead>\n",
       "    <tr style=\"text-align: right;\">\n",
       "      <th></th>\n",
       "      <th>id</th>\n",
       "      <th>vx</th>\n",
       "      <th>vy</th>\n",
       "      <th>r</th>\n",
       "      <th>lon</th>\n",
       "      <th>lat</th>\n",
       "    </tr>\n",
       "  </thead>\n",
       "  <tbody>\n",
       "    <tr>\n",
       "      <th>0</th>\n",
       "      <td>0</td>\n",
       "      <td>-31.6186</td>\n",
       "      <td>145.1567</td>\n",
       "      <td>199</td>\n",
       "      <td>263959.2191</td>\n",
       "      <td>388218.5706</td>\n",
       "    </tr>\n",
       "    <tr>\n",
       "      <th>1</th>\n",
       "      <td>1</td>\n",
       "      <td>477.6276</td>\n",
       "      <td>270.6136</td>\n",
       "      <td>236</td>\n",
       "      <td>271133.9694</td>\n",
       "      <td>654328.6620</td>\n",
       "    </tr>\n",
       "    <tr>\n",
       "      <th>2</th>\n",
       "      <td>2</td>\n",
       "      <td>123.4858</td>\n",
       "      <td>94.5313</td>\n",
       "      <td>258</td>\n",
       "      <td>330206.7864</td>\n",
       "      <td>296552.4301</td>\n",
       "    </tr>\n",
       "    <tr>\n",
       "      <th>3</th>\n",
       "      <td>3</td>\n",
       "      <td>-47.2327</td>\n",
       "      <td>303.8200</td>\n",
       "      <td>293</td>\n",
       "      <td>592547.5057</td>\n",
       "      <td>688452.9985</td>\n",
       "    </tr>\n",
       "    <tr>\n",
       "      <th>4</th>\n",
       "      <td>4</td>\n",
       "      <td>302.9791</td>\n",
       "      <td>377.9543</td>\n",
       "      <td>330</td>\n",
       "      <td>-157184.1985</td>\n",
       "      <td>930529.0630</td>\n",
       "    </tr>\n",
       "  </tbody>\n",
       "</table>\n",
       "</div>"
      ],
      "text/plain": [
       "   id        vx        vy    r          lon          lat\n",
       "0   0  -31.6186  145.1567  199  263959.2191  388218.5706\n",
       "1   1  477.6276  270.6136  236  271133.9694  654328.6620\n",
       "2   2  123.4858   94.5313  258  330206.7864  296552.4301\n",
       "3   3  -47.2327  303.8200  293  592547.5057  688452.9985\n",
       "4   4  302.9791  377.9543  330 -157184.1985  930529.0630"
      ]
     },
     "execution_count": 25,
     "metadata": {},
     "output_type": "execute_result"
    }
   ],
   "source": [
    "vesselNum = int(df.id.max()/2)\n",
    "rMin = 100\n",
    "rMax = 400\n",
    "data = []\n",
    "i = 0\n",
    "while i < vesselNum:\n",
    "    vesID = i\n",
    "    vx = random.uniform(MIN_vx, MAX_vx)\n",
    "    vy = random.uniform(MIN_vy, MAX_vy)\n",
    "    r = random.randrange(rMin, rMax)\n",
    "    data.append([vesID, vx, vy, r])\n",
    "    i += 1\n",
    "    \n",
    "result = pd.DataFrame(data, columns = ['id','vx', 'vy', 'r'])\n",
    "result['lon'] = trunc(np.random.normal(df.lon.mean(), df.lon.std(), vesselNum), 4)\n",
    "result['lat'] = trunc(np.random.normal(df.lat.mean(), df.lat.std(), vesselNum), 4)\n",
    "result['vx'] = trunc(result['vx'], 4)\n",
    "result['vy'] = trunc(result['vy'], 4)\n",
    "result.head()"
   ]
  },
  {
   "cell_type": "code",
   "execution_count": 17,
   "metadata": {},
   "outputs": [],
   "source": [
    "def join_cols(row):\n",
    "    row['loc'] = str(row['lon'])+','+str(row['lat'])\n",
    "    row['v'] = str(row['vx'])+','+str(row['vy'])\n",
    "    return row"
   ]
  },
  {
   "cell_type": "code",
   "execution_count": 26,
   "metadata": {},
   "outputs": [
    {
     "data": {
      "text/html": [
       "<div>\n",
       "<style scoped>\n",
       "    .dataframe tbody tr th:only-of-type {\n",
       "        vertical-align: middle;\n",
       "    }\n",
       "\n",
       "    .dataframe tbody tr th {\n",
       "        vertical-align: top;\n",
       "    }\n",
       "\n",
       "    .dataframe thead th {\n",
       "        text-align: right;\n",
       "    }\n",
       "</style>\n",
       "<table border=\"1\" class=\"dataframe\">\n",
       "  <thead>\n",
       "    <tr style=\"text-align: right;\">\n",
       "      <th></th>\n",
       "      <th>id</th>\n",
       "      <th>loc</th>\n",
       "      <th>v</th>\n",
       "      <th>r</th>\n",
       "    </tr>\n",
       "  </thead>\n",
       "  <tbody>\n",
       "    <tr>\n",
       "      <th>0</th>\n",
       "      <td>0</td>\n",
       "      <td>263959.2191,388218.5706</td>\n",
       "      <td>-31.6186,145.1567</td>\n",
       "      <td>199.0</td>\n",
       "    </tr>\n",
       "    <tr>\n",
       "      <th>1</th>\n",
       "      <td>1</td>\n",
       "      <td>271133.9694,654328.662</td>\n",
       "      <td>477.6276,270.6136</td>\n",
       "      <td>236.0</td>\n",
       "    </tr>\n",
       "    <tr>\n",
       "      <th>2</th>\n",
       "      <td>2</td>\n",
       "      <td>330206.7864,296552.4301</td>\n",
       "      <td>123.4858,94.5313</td>\n",
       "      <td>258.0</td>\n",
       "    </tr>\n",
       "    <tr>\n",
       "      <th>3</th>\n",
       "      <td>3</td>\n",
       "      <td>592547.5057,688452.9985</td>\n",
       "      <td>-47.2327,303.82</td>\n",
       "      <td>293.0</td>\n",
       "    </tr>\n",
       "    <tr>\n",
       "      <th>4</th>\n",
       "      <td>4</td>\n",
       "      <td>-157184.1985,930529.063</td>\n",
       "      <td>302.9791,377.9543</td>\n",
       "      <td>330.0</td>\n",
       "    </tr>\n",
       "  </tbody>\n",
       "</table>\n",
       "</div>"
      ],
      "text/plain": [
       "   id                      loc                  v      r\n",
       "0   0  263959.2191,388218.5706  -31.6186,145.1567  199.0\n",
       "1   1   271133.9694,654328.662  477.6276,270.6136  236.0\n",
       "2   2  330206.7864,296552.4301   123.4858,94.5313  258.0\n",
       "3   3  592547.5057,688452.9985    -47.2327,303.82  293.0\n",
       "4   4  -157184.1985,930529.063  302.9791,377.9543  330.0"
      ]
     },
     "execution_count": 26,
     "metadata": {},
     "output_type": "execute_result"
    }
   ],
   "source": [
    "result = result.apply(lambda row: join_cols(row), axis=1)\n",
    "del result['vx']\n",
    "del result['vy']\n",
    "del result['lon']\n",
    "del result['lat']\n",
    "result['id'] = result['id'].astype(int)\n",
    "neworder = ['id','loc','v', 'r']\n",
    "result=result.reindex(columns=neworder)\n",
    "result.head()"
   ]
  },
  {
   "cell_type": "code",
   "execution_count": 27,
   "metadata": {},
   "outputs": [],
   "source": [
    "filename = 'vessel_'+str(len(result))+'.csv'\n",
    "result.to_csv(filename, sep='|', header=False, index=False)"
   ]
  }
 ],
 "metadata": {
  "kernelspec": {
   "display_name": "Python 3",
   "language": "python",
   "name": "python3"
  },
  "language_info": {
   "codemirror_mode": {
    "name": "ipython",
    "version": 3
   },
   "file_extension": ".py",
   "mimetype": "text/x-python",
   "name": "python",
   "nbconvert_exporter": "python",
   "pygments_lexer": "ipython3",
   "version": "3.7.9"
  }
 },
 "nbformat": 4,
 "nbformat_minor": 4
}
