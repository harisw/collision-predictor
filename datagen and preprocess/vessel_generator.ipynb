{
 "cells": [
  {
   "cell_type": "code",
   "execution_count": 1,
   "metadata": {},
   "outputs": [],
   "source": [
    "from random import randrange\n",
    "import pandas as pd"
   ]
  },
  {
   "cell_type": "code",
   "execution_count": 4,
   "metadata": {},
   "outputs": [],
   "source": [
    "vesselNum = 100\n",
    "locMin = 38608\n",
    "locMax = 85790\n",
    "vMin = -75\n",
    "vMax = 75\n",
    "rMin = 40\n",
    "rMax = 80\n",
    "data = []\n",
    "i = 0\n",
    "while i < vesselNum:\n",
    "    vesID = i\n",
    "    x = randrange(locMin, locMax)\n",
    "    y = randrange(locMin, locMax)\n",
    "    vx = randrange(vMin, vMax)\n",
    "    vy = randrange(vMin, vMax)\n",
    "    r = randrange(rMin, rMax)\n",
    "    data.append([vesID, x, y, vx, vy, r])\n",
    "    i += 1"
   ]
  },
  {
   "cell_type": "code",
   "execution_count": 5,
   "metadata": {},
   "outputs": [],
   "source": [
    "df = pd.DataFrame(data, columns = ['id', 'x', 'y', 'vx', 'vy', 'r'])\n",
    "filename = 'vessel_100.csv'\n",
    "df.to_csv(filename, sep='|')"
   ]
  }
 ],
 "metadata": {
  "kernelspec": {
   "display_name": "Python 3",
   "language": "python",
   "name": "python3"
  },
  "language_info": {
   "codemirror_mode": {
    "name": "ipython",
    "version": 3
   },
   "file_extension": ".py",
   "mimetype": "text/x-python",
   "name": "python",
   "nbconvert_exporter": "python",
   "pygments_lexer": "ipython3",
   "version": "3.7.9"
  }
 },
 "nbformat": 4,
 "nbformat_minor": 4
}
